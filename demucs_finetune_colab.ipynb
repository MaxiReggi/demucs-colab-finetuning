{
 "cells": [
  {
   "cell_type": "code",
   "execution_count": null,
   "id": "658aa47d",
   "metadata": {},
   "outputs": [],
   "source": [
    "from google.colab import drive\n",
    "drive.mount('/content/drive')"
   ]
  },
  {
   "cell_type": "code",
   "execution_count": null,
   "id": "dc0b7ec2",
   "metadata": {},
   "outputs": [],
   "source": [
    "!git clone https://github.com/MaxiReggi/mydemucs.git\n",
    "%cd mydemucs"
   ]
  },
  {
   "cell_type": "code",
   "execution_count": null,
   "id": "999f8209",
   "metadata": {},
   "outputs": [],
   "source": [
    "!pip install torch==1.13.1 torchaudio==0.13.1 --extra-index-url https://download.pytorch.org/whl/cpu"
   ]
  },
  {
   "cell_type": "code",
   "execution_count": null,
   "id": "146524a3",
   "metadata": {},
   "outputs": [],
   "source": [
    "!pip install -e .\n",
    "!pip install dora-search hydra-core einops julius lameenc museval submitit soundfile"
   ]
  },
  {
   "cell_type": "code",
   "execution_count": null,
   "id": "d2d9816a",
   "metadata": {},
   "outputs": [],
   "source": [
    "!dora run -f 955717e8 \\\n",
    "  continue_from=955717e8 \\\n",
    "  dset.name=my_shawntracks \\\n",
    "  dset.train=/content/drive/MyDrive/my_finetune_dataset \\\n",
    "  dset.valid=/content/drive/MyDrive/my_finetune_dataset \\\n",
    "  batch_size=1 \\\n",
    "  segment=5 \\\n",
    "  train_valid=true"
   ]
  }
 ],
 "metadata": {},
 "nbformat": 4,
 "nbformat_minor": 5
}
