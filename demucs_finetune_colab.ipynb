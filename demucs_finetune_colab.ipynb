{
 "cells": [
  {
   "cell_type": "code",
   "execution_count": null,
   "id": "5f3a023d",
   "metadata": {},
   "outputs": [],
   "source": [
    "!mkdir -p /root/micromamba\n",
    "!curl -Ls https://micro.mamba.pm/api/micromamba/linux-64/latest | tar -xvj -C /root/micromamba bin/micromamba\n",
    "\n",
    "# Agregar micromamba al PATH\n",
    "import os\n",
    "os.environ[\"MAMBA_ROOT_PREFIX\"] = \"/root/micromamba\"\n",
    "os.environ[\"PATH\"] = \"/root/micromamba/bin:\" + os.environ[\"PATH\"]\n"
   ]
  },
  {
   "cell_type": "code",
   "execution_count": null,
   "id": "4468114d",
   "metadata": {},
   "outputs": [],
   "source": [
    "!micromamba create -y -n demucs310 -c conda-forge -c pytorch \\\n",
    "    python=3.10 \\\n",
    "    pytorch=1.13.1 \\\n",
    "    torchaudio=0.13.1 \\\n",
    "    numpy \\\n",
    "    hydra-core\n"
   ]
  },
  {
   "cell_type": "code",
   "execution_count": null,
   "id": "2c513b39",
   "metadata": {},
   "outputs": [],
   "source": [
    "!micromamba run -n demucs310 -- /bin/sh -c 'pip install dora-search einops julius lameenc museval submitit soundfile'\n"
   ]
  },
  {
   "cell_type": "code",
   "execution_count": null,
   "id": "ce13e6d6",
   "metadata": {},
   "outputs": [],
   "source": [
    "!git clone https://github.com/MaxiReggi/mydemucs.git\n",
    "%cd mydemucs\n",
    "!micromamba run -n demucs310 -- pip install -e .\n"
   ]
  },
  {
   "cell_type": "code",
   "execution_count": null,
   "id": "5e87cce0",
   "metadata": {},
   "outputs": [],
   "source": [
    "from google.colab import drive\n",
    "drive.mount('/content/drive')\n"
   ]
  },
  {
   "cell_type": "code",
   "execution_count": null,
   "id": "ed681f66",
   "metadata": {},
   "outputs": [],
   "source": [
    "!micromamba run -n demucs310 -- dora run -f 955717e8 \\\n",
    "  continue_from=955717e8 \\\n",
    "  dset.name=my_shawntracks \\\n",
    "  dset.train=/content/drive/MyDrive/my_finetune_dataset \\\n",
    "  dset.valid=/content/drive/MyDrive/my_finetune_dataset \\\n",
    "  batch_size=1 \\\n",
    "  segment=5 \\\n",
    "  train_valid=true\n"
   ]
  }
 ],
 "metadata": {},
 "nbformat": 4,
 "nbformat_minor": 5
}
