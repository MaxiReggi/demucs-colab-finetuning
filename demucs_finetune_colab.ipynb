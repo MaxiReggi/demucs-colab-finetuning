# 1. Montar Google Drive
from google.colab import drive
drive.mount('/content/drive')

# 2. Clonar tu repo (modificá este link con el tuyo)
!git clone https://github.com/MaxiReggi/mydemucs.git
%cd mydemucs

# 3. Instalar torch y torchaudio compatibles con Demucs (PyTorch 1.13)
!pip install torch==1.13.1 torchaudio==0.13.1 --extra-index-url https://download.pytorch.org/whl/cpu

# 4. Instalar dependencias
!pip install -e .
!pip install dora-search hydra-core einops julius lameenc museval submitit soundfile

# 5. Correr fine-tuning (modificá el path a tu dataset si hace falta)
!dora run -f 955717e8 continue_from=955717e8 dset.name=my_shawntracks dset.train=/content/drive/MyDrive/my_finetune_dataset dset.valid=/content/drive/MyDrive/my_finetune_dataset batch_size=1 segment=5 train_valid=true
