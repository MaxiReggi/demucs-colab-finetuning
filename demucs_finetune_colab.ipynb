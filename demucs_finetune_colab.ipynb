{
 "cells": [
  {
   "cell_type": "code",
   "execution_count": null,
   "id": "3bd4f26f",
   "metadata": {},
   "outputs": [],
   "source": [
    "!curl -Ls https://micro.mamba.pm/api/micromamba/linux-64/latest | tar -xvj bin/micromamba\n"
   ]
  },
  {
   "cell_type": "code",
   "execution_count": null,
   "id": "00c9ec17",
   "metadata": {},
   "outputs": [],
   "source": [
    "!./bin/micromamba create -y -n demucs310 python=3.10\n"
   ]
  },
  {
   "cell_type": "code",
   "execution_count": null,
   "id": "053ab8ec",
   "metadata": {},
   "outputs": [],
   "source": [
    "import os\n",
    "prefix = \"/usr/local/envs/demucs310\"\n",
    "os.environ[\"MAMBA_ROOT_PREFIX\"] = \"/usr/local\"\n",
    "os.environ[\"CONDA_PREFIX\"] = prefix\n",
    "os.environ[\"PATH\"] = f\"{prefix}/bin:\" + os.environ[\"PATH\"]\n",
    "!./bin/micromamba activate demucs310\n"
   ]
  },
  {
   "cell_type": "code",
   "execution_count": null,
   "id": "2fb08707",
   "metadata": {},
   "outputs": [],
   "source": [
    "!micromamba install -y -n demucs310 -c pytorch -c conda-forge \\\n",
    "    pytorch=1.13.1 torchaudio=0.13.1 numpy dora hydra-core einops julius lameenc museval submitit soundfile\n"
   ]
  },
  {
   "cell_type": "code",
   "execution_count": null,
   "id": "2e7b7ec9",
   "metadata": {},
   "outputs": [],
   "source": [
    "!git clone https://github.com/MaxiReggi/mydemucs.git\n",
    "%cd mydemucs\n",
    "!pip install -e .\n"
   ]
  },
  {
   "cell_type": "code",
   "execution_count": null,
   "id": "2febe1fb",
   "metadata": {},
   "outputs": [],
   "source": [
    "from google.colab import drive\n",
    "drive.mount('/content/drive')\n"
   ]
  },
  {
   "cell_type": "code",
   "execution_count": null,
   "id": "adb2b227",
   "metadata": {},
   "outputs": [],
   "source": [
    "!dora run -f 955717e8 \\\n",
    "  continue_from=955717e8 \\\n",
    "  dset.name=my_shawntracks \\\n",
    "  dset.train=/content/drive/MyDrive/my_finetune_dataset \\\n",
    "  dset.valid=/content/drive/MyDrive/my_finetune_dataset \\\n",
    "  batch_size=1 \\\n",
    "  segment=5 \\\n",
    "  train_valid=true\n"
   ]
  }
 ],
 "metadata": {},
 "nbformat": 4,
 "nbformat_minor": 5
}
