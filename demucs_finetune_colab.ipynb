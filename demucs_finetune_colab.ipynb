{
 "cells": [
  {
   "cell_type": "code",
   "execution_count": null,
   "id": "658aa47d",
   "metadata": {},
   "outputs": [],
   "source": [
    "# 1. Montar Google Drive\n",
    "from google.colab import drive\n",
    "drive.mount('/content/drive')"
   ]
  },
  {
   "cell_type": "code",
   "execution_count": null,
   "id": "dc0b7ec2",
   "metadata": {},
   "outputs": [],
   "source": [
    "# 2. Clonar tu repo de Demucs modificado\n",
    "!git clone https://github.com/MaxiReggi/mydemucs.git\n",
    "%cd mydemucs"
   ]
  },
  {
   "cell_type": "code",
   "execution_count": null,
   "id": "999f8209",
   "metadata": {},
   "outputs": [],
   "source": [
    "# 3. Instalar versiones compatibles de torch y torchaudio\n",
    "!pip install torch==1.13.1 torchaudio==0.13.1 --extra-index-url https://download.pytorch.org/whl/cpu"
   ]
  },
  {
   "cell_type": "code",
   "execution_count": null,
   "id": "146524a3",
   "metadata": {},
   "outputs": [],
   "source": [
    "# 4. Instalar dependencias\n",
    "!pip install -e .\n",
    "!pip install dora-search hydra-core einops julius lameenc museval submitit soundfile"
   ]
  },
  {
   "cell_type": "code",
   "execution_count": null,
   "id": "d2d9816a",
   "metadata": {},
   "outputs": [],
   "source": [
    "# 5. Ejecutar fine-tuning\n",
    "!dora run -f 955717e8 \\\n",
    "  continue_from=955717e8 \\\n",
    "  dset.name=my_shawntracks \\\n",
    "  dset.train=/content/drive/MyDrive/my_finetune_dataset \\\n",
    "  dset.valid=/content/drive/MyDrive/my_finetune_dataset \\\n",
    "  batch_size=1 \\\n",
    "  segment=5 \\\n",
    "  train_valid=true"
   ]
  }
 ],
 "metadata": {},
 "nbformat": 4,
 "nbformat_minor": 5
}
