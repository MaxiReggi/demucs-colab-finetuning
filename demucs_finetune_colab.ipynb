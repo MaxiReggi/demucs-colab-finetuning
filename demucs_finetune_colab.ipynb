{
 "cells": [
  {
   "cell_type": "code",
   "execution_count": null,
   "id": "ff552d61",
   "metadata": {},
   "outputs": [],
   "source": [
    "!mkdir -p /root/micromamba\n",
    "!curl -Ls https://micro.mamba.pm/api/micromamba/linux-64/latest | tar -xvj -C /root/micromamba bin/micromamba\n",
    "\n",
    "# Agregar micromamba al PATH para usar en esta notebook\n",
    "import os\n",
    "os.environ[\"MAMBA_ROOT_PREFIX\"] = \"/root/micromamba\"\n",
    "os.environ[\"PATH\"] = \"/root/micromamba/bin:\" + os.environ[\"PATH\"]\n"
   ]
  },
  {
   "cell_type": "code",
   "execution_count": null,
   "id": "5e30226a",
   "metadata": {},
   "outputs": [],
   "source": [
    "!micromamba create -y -n demucs310 python=3.10\n"
   ]
  },
  {
   "cell_type": "code",
   "execution_count": null,
   "id": "4164bb5d",
   "metadata": {},
   "outputs": [],
   "source": [
    "!micromamba install -y -n demucs310 -c pytorch -c conda-forge \\\n",
    "    pytorch=1.13.1 torchaudio=0.13.1 numpy dora-search hydra-core einops julius lameenc museval submitit soundfile\n"
   ]
  },
  {
   "cell_type": "code",
   "execution_count": null,
   "id": "bbef1aed",
   "metadata": {},
   "outputs": [],
   "source": [
    "!git clone https://github.com/MaxiReggi/mydemucs.git\n",
    "%cd mydemucs\n",
    "!pip install -e .\n"
   ]
  },
  {
   "cell_type": "code",
   "execution_count": null,
   "id": "12cd493e",
   "metadata": {},
   "outputs": [],
   "source": [
    "from google.colab import drive\n",
    "drive.mount('/content/drive')\n"
   ]
  },
  {
   "cell_type": "code",
   "execution_count": null,
   "id": "678addc1",
   "metadata": {},
   "outputs": [],
   "source": [
    "!micromamba run -n demucs310 -- dora run -f 955717e8 \\\n",
    "  continue_from=955717e8 \\\n",
    "  dset.name=my_shawntracks \\\n",
    "  dset.train=/content/drive/MyDrive/my_finetune_dataset \\\n",
    "  dset.valid=/content/drive/MyDrive/my_finetune_dataset \\\n",
    "  batch_size=1 \\\n",
    "  segment=5 \\\n",
    "  train_valid=true\n"
   ]
  }
 ],
 "metadata": {},
 "nbformat": 4,
 "nbformat_minor": 5
}
